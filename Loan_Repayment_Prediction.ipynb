{
  "cells": [
    {
      "cell_type": "code",
      "execution_count": 1,
      "metadata": {
        "id": "D2pIOwHo_z95"
      },
      "outputs": [],
      "source": [
        "import numpy as np\n",
        "import pandas as pd\n",
        "import matplotlib.pyplot as plt\n",
        "import seaborn as sns\n",
        "%matplotlib inline\n",
        "from sklearn.preprocessing import LabelEncoder\n",
        "from sklearn.model_selection import train_test_split\n",
        "import warnings\n",
        "warnings.filterwarnings('ignore')\n",
        "from sklearn.model_selection import StratifiedKFold\n",
        "kFold = StratifiedKFold(n_splits=5)\n",
        "from sklearn.model_selection import GridSearchCV\n",
        "from sklearn.preprocessing import StandardScaler\n",
        "from  sklearn.metrics  import  accuracy_score , precision_score , recall_score,confusion_matrix,classification_report"
      ]
    },
    {
      "cell_type": "markdown",
      "metadata": {
        "id": "lkc3RYn7AOLs"
      },
      "source": [
        "#### Reading file"
      ]
    },
    {
      "cell_type": "code",
      "execution_count": 2,
      "metadata": {
        "colab": {
          "base_uri": "https://localhost:8080/",
          "height": 226
        },
        "id": "MzCsBM60AMBa",
        "outputId": "d3d2a51f-d78c-4246-f00d-f3cce4da237b"
      },
      "outputs": [],
      "source": [
        "df = pd.read_csv(\"/content/loan_data.csv\")\n",
        "df.head()"
      ]
    },
    {
      "cell_type": "code",
      "execution_count": 3,
      "metadata": {
        "colab": {
          "base_uri": "https://localhost:8080/"
        },
        "id": "zN65xyeeAfEa",
        "outputId": "096f78ec-c372-4d81-f6ce-f9053cdaeb3e"
      },
      "outputs": [],
      "source": [
        "# Consise Summery\n",
        "\n",
        "df.info()"
      ]
    },
    {
      "cell_type": "markdown",
      "metadata": {
        "id": "4f6WXQHpAtga"
      },
      "source": [
        "Here we can see that attribute purpose has object datatype. We need to deal with it."
      ]
    },
    {
      "cell_type": "code",
      "execution_count": 4,
      "metadata": {
        "colab": {
          "base_uri": "https://localhost:8080/",
          "height": 320
        },
        "id": "Rny5S2kYAkaE",
        "outputId": "d9d8a5d1-0097-4bb9-c6f6-bc0d623ae273"
      },
      "outputs": [],
      "source": [
        "# Summery\n",
        "df.describe()"
      ]
    },
    {
      "cell_type": "markdown",
      "metadata": {
        "id": "vJPrG5uYA9gF"
      },
      "source": [
        "#### Checking For Null Values\n"
      ]
    },
    {
      "cell_type": "code",
      "execution_count": 5,
      "metadata": {
        "colab": {
          "base_uri": "https://localhost:8080/"
        },
        "id": "IRGb9o5XAqHE",
        "outputId": "0a0701cf-486f-4547-b973-5e113a52473a"
      },
      "outputs": [],
      "source": [
        "df.isnull().sum().sum()"
      ]
    },
    {
      "cell_type": "markdown",
      "metadata": {
        "id": "7kAN-SW4BInM"
      },
      "source": [
        "Our DataFrame contain **Zero** Null values.\n",
        "<br><br>\n",
        "Now lets solve the problem with **Purpose** Attribute."
      ]
    },
    {
      "cell_type": "code",
      "execution_count": 6,
      "metadata": {
        "colab": {
          "base_uri": "https://localhost:8080/"
        },
        "id": "EGD1CxQHBHCt",
        "outputId": "4072f4c7-dbc9-457b-b0cd-5bcfd124768e"
      },
      "outputs": [],
      "source": [
        "# unique values in purpose attribute\n",
        "\n",
        "df.purpose.value_counts()"
      ]
    },
    {
      "cell_type": "markdown",
      "metadata": {
        "id": "P6V9PU5HCOvP"
      },
      "source": [
        "It has **6 unique values**. lets convert these labels into numeric form."
      ]
    },
    {
      "cell_type": "markdown",
      "metadata": {
        "id": "zfEtImStCnjb"
      },
      "source": [
        "### Encoding\n",
        "\n",
        "* We will be using **Label Encoder** to convert labels available in purpose attribute.\n",
        "\n",
        "* It will Encode purpose labels with value between 0 and n_classes-1(5)."
      ]
    },
    {
      "cell_type": "code",
      "execution_count": 7,
      "metadata": {
        "colab": {
          "base_uri": "https://localhost:8080/",
          "height": 226
        },
        "id": "44pMsl84Bynh",
        "outputId": "bc0f812c-9bd4-4997-ec85-d1e2a260a3cd"
      },
      "outputs": [],
      "source": [
        "df['purpose']=LabelEncoder().fit_transform(df['purpose'])\n",
        "df.head()"
      ]
    },
    {
      "cell_type": "markdown",
      "metadata": {
        "id": "42Ph2-X2jfkz"
      },
      "source": [
        "## Data Visualization"
      ]
    },
    {
      "cell_type": "code",
      "execution_count": 8,
      "metadata": {
        "colab": {
          "base_uri": "https://localhost:8080/",
          "height": 297
        },
        "id": "8vkarVQREAW-",
        "outputId": "42f31cfb-2a8a-4c72-d735-d7228b8dc0f0"
      },
      "outputs": [],
      "source": [
        "sns.set_style('darkgrid')\n",
        "plt.hist(df['fico'].loc[df['credit.policy']==1], bins=30, label='Credit.Policy=1')\n",
        "plt.hist(df['fico'].loc[df['credit.policy']==0], bins=30, label='Credit.Policy=0')\n",
        "plt.legend()\n",
        "plt.xlabel('FICO')"
      ]
    },
    {
      "cell_type": "code",
      "execution_count": 9,
      "metadata": {
        "colab": {
          "base_uri": "https://localhost:8080/",
          "height": 406
        },
        "id": "cybMSYG8j2or",
        "outputId": "8c926273-449a-4e14-9256-b7d36b36a8ba"
      },
      "outputs": [],
      "source": [
        "plt.figure(figsize=(10,6))\n",
        "df[df['not.fully.paid']==1]['fico'].hist(bins=30, alpha=0.5, color='blue', label='not.fully.paid=1')\n",
        "df[df['not.fully.paid']==0]['fico'].hist(bins=30, alpha=0.5, color='green', label='not.fully.paid=0')\n",
        "plt.legend()\n",
        "plt.xlabel('FICO')"
      ]
    },
    {
      "cell_type": "code",
      "execution_count": 10,
      "metadata": {
        "colab": {
          "base_uri": "https://localhost:8080/",
          "height": 408
        },
        "id": "USU-tVvkkFLv",
        "outputId": "94405e20-1a7b-4efe-889e-bb1a7880b262"
      },
      "outputs": [],
      "source": [
        "#creating a countplot to see the counts of purpose of loans by not.fully.paid\n",
        "plt.figure(figsize=(12,6))\n",
        "sns.countplot(data=df, x='purpose', hue='not.fully.paid')"
      ]
    },
    {
      "cell_type": "code",
      "execution_count": 11,
      "metadata": {
        "colab": {
          "base_uri": "https://localhost:8080/",
          "height": 477
        },
        "id": "9SGBH7BvkL8V",
        "outputId": "0177a7c8-7b78-427f-d3fa-d55700c8a639"
      },
      "outputs": [],
      "source": [
        "#checking the trend between FICO and the interest rate\n",
        "plt.figure(figsize=(10,6))\n",
        "sns.jointplot(x='fico', y='int.rate', data=df)"
      ]
    },
    {
      "cell_type": "code",
      "execution_count": 12,
      "metadata": {
        "colab": {
          "base_uri": "https://localhost:8080/",
          "height": 401
        },
        "id": "vYhJyvyfkTnW",
        "outputId": "1c65706f-c5ca-4435-dfed-39807705280b"
      },
      "outputs": [],
      "source": [
        "#understanding the relationship between credit.policy and not.fully.paid\n",
        "sns.lmplot(data=df, x='fico', y='int.rate', hue='credit.policy', col='not.fully.paid', palette='Set2')"
      ]
    },
    {
      "cell_type": "code",
      "execution_count": 13,
      "metadata": {
        "colab": {
          "base_uri": "https://localhost:8080/",
          "height": 928
        },
        "id": "YLXlo5U8EGB0",
        "outputId": "fa4575bc-0500-4858-903a-28878b2f5422"
      },
      "outputs": [],
      "source": [
        "plt.figure(figsize = (20, 15)) \n",
        "sns.heatmap(df.corr(), cmap='BuPu', annot=True)\n",
        "plt.show()"
      ]
    },
    {
      "cell_type": "markdown",
      "metadata": {
        "id": "btSOHyg5Hiwn"
      },
      "source": [
        "We can see that **init rate, credit policy, fico and inq.last.6mths** has corresponding grater impact on target class(not.gully.paid)\n",
        "\n"
      ]
    },
    {
      "cell_type": "markdown",
      "metadata": {
        "id": "zejlzqAqINGc"
      },
      "source": [
        "### Train-Test Split\n",
        "\n",
        "Splitting the dataset for training and testing purpose."
      ]
    },
    {
      "cell_type": "code",
      "execution_count": 14,
      "metadata": {
        "id": "RbY4zSHjGjjC"
      },
      "outputs": [],
      "source": [
        "# Dropping target class\n",
        "\n",
        "X = df.drop('not.fully.paid',axis=1)\n",
        "y = df['not.fully.paid']"
      ]
    },
    {
      "cell_type": "code",
      "execution_count": 15,
      "metadata": {
        "id": "NjB_r6mLImGv"
      },
      "outputs": [],
      "source": [
        "X_train, X_test, y_train, y_test = train_test_split(X, y, test_size=0.3,random_state=101)"
      ]
    },
    {
      "cell_type": "markdown",
      "metadata": {
        "id": "6rJASxOAI-PM"
      },
      "source": [
        "# Modellng"
      ]
    },
    {
      "cell_type": "markdown",
      "metadata": {
        "id": "EQ1tE_pdXM4k"
      },
      "source": [
        "## Decision Tree"
      ]
    },
    {
      "cell_type": "code",
      "execution_count": 16,
      "metadata": {
        "colab": {
          "base_uri": "https://localhost:8080/"
        },
        "id": "HaIsUqvBI4-x",
        "outputId": "a3b3015d-c676-4c14-bbca-c151a467c589"
      },
      "outputs": [],
      "source": [
        "from sklearn.tree import DecisionTreeClassifier\n",
        "\n",
        "dt_clf = DecisionTreeClassifier()\n",
        "param_grid = {'max_depth': [2,3, 4,5,6,7,8,9,10,11,13,15,20]}\n",
        "\n",
        "grid_search = GridSearchCV(dt_clf, param_grid, scoring = 'recall_weighted',cv=kFold, return_train_score=True)\n",
        "grid_search.fit(X_train,y_train)"
      ]
    },
    {
      "cell_type": "code",
      "execution_count": 17,
      "metadata": {
        "colab": {
          "base_uri": "https://localhost:8080/"
        },
        "id": "1X-S0xNRKDiH",
        "outputId": "56516469-24cd-4f53-eb40-4a3f75e6114b"
      },
      "outputs": [],
      "source": [
        "grid_search.best_params_"
      ]
    },
    {
      "cell_type": "code",
      "execution_count": 18,
      "metadata": {
        "id": "tsPZipKEKRaC"
      },
      "outputs": [],
      "source": [
        "dt_clf = DecisionTreeClassifier(max_depth=2)\n",
        "dt_clf.fit(X_train, y_train)\n",
        "y_pred_train = dt_clf.predict(X_train)\n",
        "y_pred_test = dt_clf.predict(X_test)\n",
        "\n",
        "train_accuracy = accuracy_score(y_train, y_pred_train)\n",
        "test_accuracy = accuracy_score(y_test, y_pred_test)"
      ]
    },
    {
      "cell_type": "code",
      "execution_count": 19,
      "metadata": {
        "colab": {
          "base_uri": "https://localhost:8080/"
        },
        "id": "YWkKXTBWKwuN",
        "outputId": "ea0f930e-a02a-44a1-f70c-6b65609cfda2"
      },
      "outputs": [],
      "source": [
        "print(\"Confusion Matrix \\n\",confusion_matrix(y_test,y_pred_test))\n",
        "print(\"\\n\")\n",
        "print(\"<-------------------Classification Report---------------------->\\n\")\n",
        "print(classification_report(y_test,y_pred_test))\n",
        "print(\"\\n\")\n",
        "print(\"<---------------Accuracy Scores------------------->\\n\")\n",
        "print('Train Accuracy score: ',train_accuracy)\n",
        "print('Test Accuracy score:',test_accuracy)"
      ]
    },
    {
      "cell_type": "markdown",
      "metadata": {
        "id": "GXOVGiXKN5Ms"
      },
      "source": [
        "We got **Accuracy of 84.58%** using Decision Tree Classifier."
      ]
    },
    {
      "cell_type": "markdown",
      "metadata": {
        "id": "eLXHbnF4VgK8"
      },
      "source": [
        "### **Bagging** with Decision Tree"
      ]
    },
    {
      "cell_type": "code",
      "execution_count": 20,
      "metadata": {
        "colab": {
          "base_uri": "https://localhost:8080/"
        },
        "id": "CvPz9WABLNRt",
        "outputId": "7039cc0b-2392-446a-f889-13d69eecbec4"
      },
      "outputs": [],
      "source": [
        "from sklearn.ensemble import BaggingClassifier\n",
        "from sklearn.model_selection import cross_val_score\n",
        "scaler=StandardScaler()\n",
        "X_scaled = scaler.fit_transform(X)\n",
        "bag_dt = BaggingClassifier(base_estimator=DecisionTreeClassifier(max_depth=2),n_estimators=100,bootstrap=True)\n",
        "score = cross_val_score(estimator=bag_dt, X=X_scaled, y=y, scoring='recall_weighted', cv=kFold, n_jobs=-1)\n",
        "print('Mean score:', score.mean())"
      ]
    },
    {
      "cell_type": "markdown",
      "metadata": {
        "id": "Qv4OaRhUVmrV"
      },
      "source": [
        "Bagging is not improving the score of model and giving only **73.10% of mean Score.**"
      ]
    },
    {
      "cell_type": "markdown",
      "metadata": {
        "id": "YmWHB88fWfhs"
      },
      "source": [
        "### **AdaBoosting** with Decision Tree"
      ]
    },
    {
      "cell_type": "code",
      "execution_count": 21,
      "metadata": {
        "colab": {
          "base_uri": "https://localhost:8080/"
        },
        "id": "ubQJWX4USk52",
        "outputId": "64b5bdd8-fcf0-414b-b830-914ca99802ae"
      },
      "outputs": [],
      "source": [
        "from sklearn.ensemble import AdaBoostClassifier\n",
        "\n",
        "adaboost_clf = AdaBoostClassifier(base_estimator = DecisionTreeClassifier(max_depth=2), learning_rate = 0.5)\n",
        "adaboost_clf.fit(X_train, y_train)\n",
        "print('Train score: {0:0.2f}'.format(adaboost_clf.score(X_train, y_train)))\n",
        "print('Test score: {0:0.2f}'.format(adaboost_clf.score(X_test, y_test)))"
      ]
    },
    {
      "cell_type": "markdown",
      "metadata": {
        "id": "XTXWz76nWy3_"
      },
      "source": [
        "It giving the same result of **84%** and not improving our Model."
      ]
    },
    {
      "cell_type": "markdown",
      "metadata": {
        "id": "lsV_3mOmXSfI"
      },
      "source": [
        "## Random Forest Classifier"
      ]
    },
    {
      "cell_type": "code",
      "execution_count": 22,
      "metadata": {
        "id": "uCZ12h1QWUOx"
      },
      "outputs": [],
      "source": [
        "from sklearn.ensemble import RandomForestClassifier\n",
        "rf_clf = RandomForestClassifier(n_estimators=600)\n",
        "rf_clf.fit(X_train, y_train)\n",
        "y_pred_train = rf_clf.predict(X_train)\n",
        "y_pred_test = rf_clf.predict(X_test)\n",
        "\n",
        "train_accuracy = accuracy_score(y_train, y_pred_train)\n",
        "test_accuracy = accuracy_score(y_test, y_pred_test)"
      ]
    },
    {
      "cell_type": "code",
      "execution_count": 23,
      "metadata": {
        "colab": {
          "base_uri": "https://localhost:8080/"
        },
        "id": "FeJRU4a0XFb9",
        "outputId": "fc9f8d6f-7de3-491a-e03f-79eec235bd7e"
      },
      "outputs": [],
      "source": [
        "print(\"Confusion Matrix \\n\",confusion_matrix(y_test,y_pred_test))\n",
        "print(\"\\n\")\n",
        "print(\"<-------------------Classification Report---------------------->\\n\")\n",
        "print(classification_report(y_test,y_pred_test))\n",
        "print(\"\\n\")\n",
        "print(\"<---------------Accuracy Scores------------------->\\n\")\n",
        "#print('Train Accuracy score: ',train_accuracy)\n",
        "print('Test Accuracy score:',test_accuracy)"
      ]
    },
    {
      "cell_type": "markdown",
      "metadata": {
        "id": "k3jcfgeKoORR"
      },
      "source": [
        "We got the **Accuracy of 84.7%** with random Forest Classifier"
      ]
    },
    {
      "cell_type": "markdown",
      "metadata": {
        "id": "BAcGYlH1mxCl"
      },
      "source": [
        "### AdaBoosting with RandomForest"
      ]
    },
    {
      "cell_type": "code",
      "execution_count": 24,
      "metadata": {
        "id": "LphyDnydhmvu"
      },
      "outputs": [],
      "source": [
        "from sklearn.ensemble import AdaBoostClassifier\n",
        "adaboost_clf = AdaBoostClassifier(base_estimator = rf_clf, learning_rate = 0.5)\n",
        "adaboost_clf.fit(X_train, y_train)\n",
        "#print('Train score: {0:0.2f}'.format(adaboost_clf.score(X_train, y_train)))\n",
        "#print('Test score: {0:0.2f}'.format(adaboost_clf.score(X_test, y_test)))\n",
        "y_pred_train = adaboost_clf.predict(X_train)\n",
        "y_pred_test = adaboost_clf.predict(X_test)\n",
        "\n",
        "train_accuracy = accuracy_score(y_train, y_pred_train)\n",
        "test_accuracy = accuracy_score(y_test, y_pred_test)"
      ]
    },
    {
      "cell_type": "code",
      "execution_count": 25,
      "metadata": {
        "colab": {
          "base_uri": "https://localhost:8080/"
        },
        "id": "RVzB2wu0nMQI",
        "outputId": "58744eac-d1b6-483c-f2d8-5b465f38bb05"
      },
      "outputs": [],
      "source": [
        "print(\"Confusion Matrix \\n\",confusion_matrix(y_test,y_pred_test))\n",
        "print(\"\\n\")\n",
        "print(\"<-------------------Classification Report---------------------->\\n\")\n",
        "print(classification_report(y_test,y_pred_test))\n",
        "print(\"\\n\")\n",
        "print(\"<---------------Accuracy Scores------------------->\\n\")\n",
        "#print('Train Accuracy score: ',train_accuracy)\n",
        "print('Test Accuracy score:',test_accuracy)"
      ]
    },
    {
      "cell_type": "markdown",
      "metadata": {
        "id": "Pdx9zMtAnbxx"
      },
      "source": [
        "### Gradient Boosting"
      ]
    },
    {
      "cell_type": "code",
      "execution_count": 26,
      "metadata": {
        "id": "cGv0DI5xlZeE"
      },
      "outputs": [],
      "source": [
        "from sklearn.ensemble import GradientBoostingClassifier\n",
        "gb_clf = GradientBoostingClassifier(learning_rate = 0.05)\n",
        "gb_clf.fit(X_train, y_train)\n",
        "#print('Train score: {0:0.2f}'.format(gb_clf.score(X_train, y_train)))\n",
        "#print('Test score: {0:0.2f}'.format(gb_clf.score(X_test, y_test)))\n",
        "y_pred_train = gb_clf.predict(X_train)\n",
        "y_pred_test = gb_clf.predict(X_test)\n",
        "\n",
        "train_accuracy = accuracy_score(y_train, y_pred_train)\n",
        "test_accuracy = accuracy_score(y_test, y_pred_test)"
      ]
    },
    {
      "cell_type": "code",
      "execution_count": 27,
      "metadata": {
        "colab": {
          "base_uri": "https://localhost:8080/"
        },
        "id": "ClDAzE_KlwUI",
        "outputId": "f3cf0908-1e9e-47ea-f87e-6dc9c4fad3d1"
      },
      "outputs": [],
      "source": [
        "print(\"Confusion Matrix \\n\",confusion_matrix(y_test,y_pred_test))\n",
        "print(\"\\n\")\n",
        "print(\"<-------------------Classification Report---------------------->\\n\")\n",
        "print(classification_report(y_test,y_pred_test))\n",
        "print(\"\\n\")\n",
        "print(\"<---------------Accuracy Scores------------------->\\n\")\n",
        "#print('Train Accuracy score: ',train_accuracy)\n",
        "print('Test Accuracy score:',test_accuracy)"
      ]
    },
    {
      "cell_type": "markdown",
      "metadata": {
        "id": "JqVEdpN8oeu_"
      },
      "source": [
        "While Computing different **Ensemble Learning Technologies**, We Found that Most of the **Bagging and Boosting** algo are giving similar result with minimum difference in accuracy. Even though in all these Ensembles-\n",
        "\n",
        "We Found that the **Best Model for this DataSet is Random Forest with Accuracy of 85%.**"
      ]
    },
    {
      "cell_type": "markdown",
      "metadata": {
        "id": "MVLNK0Tkpft6"
      },
      "source": [
        "<h3 align=\"center\">Thank You</h3>"
      ]
    }
  ],
  "metadata": {
    "colab": {
      "authorship_tag": "ABX9TyOM5ZJ4y5zxzPfToCKcRnA0",
      "collapsed_sections": [],
      "include_colab_link": true,
      "name": "Loan Repayment Prediction.ipynb",
      "provenance": [],
      "toc_visible": true
    },
    "kernelspec": {
      "display_name": "Python 3",
      "name": "python3"
    }
  },
  "nbformat": 4,
  "nbformat_minor": 0
}
